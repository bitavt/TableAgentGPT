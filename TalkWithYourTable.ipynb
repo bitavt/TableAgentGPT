{
 "cells": [
  {
   "cell_type": "code",
   "execution_count": 1,
   "metadata": {},
   "outputs": [],
   "source": [
    "import os"
   ]
  },
  {
   "cell_type": "code",
   "execution_count": 2,
   "metadata": {},
   "outputs": [],
   "source": [
    "# get your API key\n",
    "OPENAI_API_KEY= os.environ[\"OPENAI_API_KEY\"]"
   ]
  },
  {
   "cell_type": "code",
   "execution_count": 3,
   "metadata": {},
   "outputs": [
    {
     "name": "stdout",
     "output_type": "stream",
     "text": [
      "\u001b[0mWelcome to TableAgentGPT! This tool enables you to interact with your tabular data by generating queries on your behalf.\n",
      "\n",
      "To get started, please load your data and its metadata using the command:\n",
      "/load <file_path> <table_columns_description>\n",
      "\n",
      "Once your data is loaded, feel free to ask any questions, and I’ll retrieve insights for you.\n",
      "To exit the system, simply type /q.\u001b[0m\n"
     ]
    },
    {
     "name": "stdin",
     "output_type": "stream",
     "text": [
      ">>> User prompt (/q to quit, /load to load data):  /load sample_data/ds_salaries.csv sample_data/ds_salaries_schema.txt\n"
     ]
    },
    {
     "name": "stdout",
     "output_type": "stream",
     "text": [
      "\u001b[34mRouting to load_data step...\u001b[0m\n",
      "\u001b[34mData file loaded into DuckDB.\u001b[0m\n",
      "\u001b[34mAgent 'load_data' run time: 0.02 seconds.\u001b[0m\n",
      "\u001b[0mTable 'ds_salaries' loaded with metadata:\n",
      "Table: ds_salaries\n",
      "- work_year: int. The year the salary was paid.\n",
      "- experience_level: string. The experience level in the job during the year. Categories: EN that stands for Entry-level / Junior. MI that stands for Mid-level / Intermediate. SE that stands for Senior-level / Expert. EX that stands for Executive-level / Director.\n",
      "- employment_type: string. The type of employment for the role. Categories: FT that stands for Full-time. PT that stands for Part-time. CT that stands for Contract. FL that stands for Freelance.\n",
      "- job_title: string. The role's title. Examples: Data Scientist, Lead Data Analyst.\n",
      "- salary:float. The total gross salary amount paid in the corresponding salary_currency.\n",
      "- salary_currency: string.The currency of the salary paid. Examples: USD, EUR.\n",
      "- salary_in_usd: float. The salary measured in USD dollars (standardized).\n",
      "- employee_residence: string. The employee's primary country of residence in the form of a standardized code used for country identification. Examples: US, GB.\n",
      "- remote_ratio: float. The percentage of remote work. Examples: 0, 50, 100.\n",
      "- company_location: string.The country where the employer's main office is located in the form of a standardized code used for country identification. Examples: NZ, FR.\n",
      "- company_size: string. The size of the company based on the number of employees. Categories: S that stands for Small (less than 50 employees).M that stands for Medium (50 to 250 employees). L that stands for Large (more than 250 employees).\n",
      "\n",
      "\n",
      "\u001b[0m\n"
     ]
    },
    {
     "name": "stdin",
     "output_type": "stream",
     "text": [
      ">>> User prompt (/q to quit, /load to load data):  Which country has the highest salary in dollar amount?\n"
     ]
    },
    {
     "name": "stdout",
     "output_type": "stream",
     "text": [
      "\u001b[34mRouting to build_query step...\u001b[0m\n",
      "\u001b[34mSELECT employee_residence, MAX(salary_in_usd) AS highest_salary\n",
      "FROM ds_salaries\n",
      "GROUP BY employee_residence\n",
      "ORDER BY highest_salary DESC\n",
      "LIMIT 1;\u001b[0m\n",
      "\u001b[34mAgent 'build_query' run time: 1.73 seconds.\u001b[0m\n",
      "\u001b[34mRouting to execute_query step...\u001b[0m\n",
      "\u001b[34mAgent 'execute_query' run time: 0.01 seconds.\u001b[0m\n",
      "\u001b[34mRouting to post_execution step...\u001b[0m\n",
      "\u001b[34mAgent 'post_execution' run time: 1.19 seconds.\u001b[0m\n",
      "\u001b[0mThe country with the highest salary in dollar amount is the United States (US), with a salary of $600,000.\u001b[0m\n"
     ]
    },
    {
     "name": "stdin",
     "output_type": "stream",
     "text": [
      ">>> User prompt (/q to quit, /load to load data):  in year 2020 what is the highest paying job on average?\n"
     ]
    },
    {
     "name": "stdout",
     "output_type": "stream",
     "text": [
      "\u001b[34mRouting to build_query step...\u001b[0m\n",
      "\u001b[34mSELECT job_title, AVG(salary_in_usd) AS average_salary\n",
      "FROM ds_salaries\n",
      "WHERE work_year = 2020\n",
      "GROUP BY job_title\n",
      "ORDER BY average_salary DESC\n",
      "LIMIT 1;\u001b[0m\n",
      "\u001b[34mAgent 'build_query' run time: 1.61 seconds.\u001b[0m\n",
      "\u001b[34mRouting to execute_query step...\u001b[0m\n",
      "\u001b[34mAgent 'execute_query' run time: 0.00 seconds.\u001b[0m\n",
      "\u001b[34mRouting to post_execution step...\u001b[0m\n",
      "\u001b[34mAgent 'post_execution' run time: 1.22 seconds.\u001b[0m\n",
      "\u001b[0mIn the year 2020, the highest paying job on average was the position of \"Director of Data Science,\" with an average salary of $325,000.\u001b[0m\n"
     ]
    },
    {
     "name": "stdin",
     "output_type": "stream",
     "text": [
      ">>> User prompt (/q to quit, /load to load data):  what is the median salary of a data scientist in 2021?\n"
     ]
    },
    {
     "name": "stdout",
     "output_type": "stream",
     "text": [
      "\u001b[34mRouting to build_query step...\u001b[0m\n",
      "\u001b[34mSELECT percentile_cont(0.5) WITHIN GROUP (ORDER BY salary_in_usd) AS median_salary\n",
      "FROM ds_salaries\n",
      "WHERE job_title = 'Data Scientist' AND work_year = 2021;\u001b[0m\n",
      "\u001b[34mAgent 'build_query' run time: 1.56 seconds.\u001b[0m\n",
      "\u001b[34mRouting to execute_query step...\u001b[0m\n",
      "\u001b[34mAgent 'execute_query' run time: 0.00 seconds.\u001b[0m\n",
      "\u001b[34mRouting to post_execution step...\u001b[0m\n",
      "\u001b[34mAgent 'post_execution' run time: 1.22 seconds.\u001b[0m\n",
      "\u001b[0mThe median salary of a Data Scientist in 2021 was $73,000.\u001b[0m\n"
     ]
    },
    {
     "name": "stdin",
     "output_type": "stream",
     "text": [
      ">>> User prompt (/q to quit, /load to load data):  /q\n"
     ]
    },
    {
     "name": "stdout",
     "output_type": "stream",
     "text": [
      "\u001b[34mRouting to END step...\u001b[0m\n"
     ]
    }
   ],
   "source": [
    "%run -i \"build_state_graph.py\""
   ]
  },
  {
   "cell_type": "markdown",
   "metadata": {},
   "source": [
    "- /load sample_data/apple_sales_2024.csv sample_data/apple_sales_2024_schema.txt\n",
    "- /load sample_data/ds_salaries.csv sample_data/ds_salaries_schema.txt\n"
   ]
  },
  {
   "cell_type": "code",
   "execution_count": null,
   "metadata": {},
   "outputs": [],
   "source": []
  }
 ],
 "metadata": {
  "kernelspec": {
   "display_name": "Python (langgraph)",
   "language": "python",
   "name": "langgraph"
  },
  "language_info": {
   "codemirror_mode": {
    "name": "ipython",
    "version": 3
   },
   "file_extension": ".py",
   "mimetype": "text/x-python",
   "name": "python",
   "nbconvert_exporter": "python",
   "pygments_lexer": "ipython3",
   "version": "3.12.9"
  }
 },
 "nbformat": 4,
 "nbformat_minor": 4
}
