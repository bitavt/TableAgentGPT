{
 "cells": [
  {
   "cell_type": "code",
   "execution_count": 1,
   "metadata": {},
   "outputs": [],
   "source": [
    "import os\n",
    "import io\n",
    "from PIL import Image\n",
    "from IPython.display import Image"
   ]
  },
  {
   "cell_type": "code",
   "execution_count": 2,
   "metadata": {},
   "outputs": [],
   "source": [
    "# get your API key\n",
    "OPENAI_API_KEY= os.environ[\"OPENAI_API_KEY\"]"
   ]
  },
  {
   "cell_type": "markdown",
   "metadata": {},
   "source": [
    "### Simply type in the following to begin\n",
    "- /load sample_data/ds_salaries.csv sample_data/ds_salaries_schema.txt"
   ]
  },
  {
   "cell_type": "code",
   "execution_count": 3,
   "metadata": {},
   "outputs": [
    {
     "name": "stdout",
     "output_type": "stream",
     "text": [
      "\u001b[0mWelcome to TableAgentGPT! This tool enables you to interact with your tabular data by generating queries on your behalf.\n",
      "\n",
      "To get started, please load your data and its metadata using the command:\n",
      "/load <file_path> <table_columns_description>\n",
      "\n",
      "Once your data is loaded, feel free to ask any questions, and I’ll retrieve insights for you.\n",
      "To exit the system, simply type /q.\u001b[0m\n"
     ]
    },
    {
     "name": "stdin",
     "output_type": "stream",
     "text": [
      ">>> User prompt (/q to quit, /load to load data):  which job title has the highest average salary in US dollar in 2020?\n"
     ]
    },
    {
     "name": "stdout",
     "output_type": "stream",
     "text": [
      "\u001b[34mRouting to handle_user_input step...\u001b[0m\n",
      "\u001b[0mPlease load your data first using the command /load <file_path>  <table_columns_description>.\u001b[0m\n"
     ]
    },
    {
     "name": "stdin",
     "output_type": "stream",
     "text": [
      ">>> User prompt (/q to quit, /load to load data):  /load sample_data/ds_salaries.csv sample_data/ds_salaries_schema.txt\n"
     ]
    },
    {
     "name": "stdout",
     "output_type": "stream",
     "text": [
      "\u001b[34mRouting to load_data step...\u001b[0m\n",
      "\u001b[34mData file loaded into DuckDB.\u001b[0m\n",
      "\u001b[34mAgent 'load_data' run time: 0.02 seconds.\u001b[0m\n",
      "\u001b[0mTable 'ds_salaries' loaded with metadata:\n",
      "Table: ds_salaries\n",
      "- work_year: int. The year the salary was paid.\n",
      "- experience_level: string. The experience level in the job during the year. Categories: EN that stands for Entry-level / Junior. MI that stands for Mid-level / Intermediate. SE that stands for Senior-level / Expert. EX that stands for Executive-level / Director.\n",
      "- employment_type: string. The type of employment for the role. Categories: FT that stands for Full-time. PT that stands for Part-time. CT that stands for Contract. FL that stands for Freelance.\n",
      "- job_title: string. The role's title. Examples: Data Scientist, Lead Data Analyst.\n",
      "- salary:float. The total gross salary amount paid in the corresponding salary_currency.\n",
      "- salary_currency: string.The currency of the salary paid. Examples: USD, EUR.\n",
      "- salary_in_usd: float. The salary measured in USD dollars (standardized).\n",
      "- employee_residence: string. The employee's primary country of residence in the form of a standardized code used for country identification. Examples: US, GB.\n",
      "- remote_ratio: float. The percentage of remote work. Examples: 0, 50, 100.\n",
      "- company_location: string.The country where the employer's main office is located in the form of a standardized code used for country identification. Examples: NZ, FR.\n",
      "- company_size: string. The size of the company based on the number of employees. Categories: S that stands for Small (less than 50 employees).M that stands for Medium (50 to 250 employees). L that stands for Large (more than 250 employees).\n",
      "\n",
      "\n",
      "\u001b[0m\n"
     ]
    },
    {
     "name": "stdin",
     "output_type": "stream",
     "text": [
      ">>> User prompt (/q to quit, /load to load data):  which job title has the highest average salary in US dollar in 2020?\n"
     ]
    },
    {
     "name": "stdout",
     "output_type": "stream",
     "text": [
      "\u001b[34mRouting to build_query step...\u001b[0m\n",
      "\u001b[34mSELECT job_title, AVG(salary_in_usd) AS average_salary\n",
      "FROM ds_salaries\n",
      "WHERE work_year = 2020\n",
      "GROUP BY job_title\n",
      "ORDER BY average_salary DESC\n",
      "LIMIT 1;\u001b[0m\n",
      "\u001b[34mAgent 'build_query' run time: 1.99 seconds.\u001b[0m\n",
      "\u001b[34mRouting to execute_query step...\u001b[0m\n",
      "\u001b[34mAgent 'execute_query' run time: 0.01 seconds.\u001b[0m\n",
      "\u001b[34mRouting to post_execution step...\u001b[0m\n",
      "\u001b[34mAgent 'post_execution' run time: 1.19 seconds.\u001b[0m\n",
      "\u001b[0mThe job title with the highest average salary in US dollars in 2020 is \"Director of Data Science,\" with an average salary of $325,000.00.\u001b[0m\n"
     ]
    },
    {
     "name": "stdin",
     "output_type": "stream",
     "text": [
      ">>> User prompt (/q to quit, /load to load data):  How much does an entry-level data scientist make on average in US dollar in 2020?  \n"
     ]
    },
    {
     "name": "stdout",
     "output_type": "stream",
     "text": [
      "\u001b[34mRouting to build_query step...\u001b[0m\n",
      "\u001b[34mSELECT AVG(salary_in_usd) AS average_salary\n",
      "FROM ds_salaries\n",
      "WHERE work_year = 2020 AND experience_level = 'EN' AND job_title = 'Data Scientist';\u001b[0m\n",
      "\u001b[34mAgent 'build_query' run time: 1.90 seconds.\u001b[0m\n",
      "\u001b[34mRouting to execute_query step...\u001b[0m\n",
      "\u001b[34mAgent 'execute_query' run time: 0.00 seconds.\u001b[0m\n",
      "\u001b[34mRouting to post_execution step...\u001b[0m\n",
      "\u001b[34mAgent 'post_execution' run time: 0.92 seconds.\u001b[0m\n",
      "\u001b[0mThe average salary of an entry-level data scientist in 2020 was approximately $54,983.33 USD.\u001b[0m\n"
     ]
    },
    {
     "name": "stdin",
     "output_type": "stream",
     "text": [
      ">>> User prompt (/q to quit, /load to load data):  how about the mid-level data scientist?\n"
     ]
    },
    {
     "name": "stdout",
     "output_type": "stream",
     "text": [
      "\u001b[34mRouting to build_query step...\u001b[0m\n",
      "\u001b[34mSELECT AVG(salary_in_usd) AS average_salary\n",
      "FROM ds_salaries\n",
      "WHERE work_year = 2020 AND experience_level = 'MI' AND job_title = 'Data Scientist';\u001b[0m\n",
      "\u001b[34mAgent 'build_query' run time: 1.44 seconds.\u001b[0m\n",
      "\u001b[34mRouting to execute_query step...\u001b[0m\n",
      "\u001b[34mAgent 'execute_query' run time: 0.00 seconds.\u001b[0m\n",
      "\u001b[34mRouting to post_execution step...\u001b[0m\n",
      "\u001b[34mAgent 'post_execution' run time: 0.91 seconds.\u001b[0m\n",
      "\u001b[0mThe average salary for a mid-level Data Scientist in the year 2020 was $71,256.00 USD.\u001b[0m\n"
     ]
    },
    {
     "name": "stdin",
     "output_type": "stream",
     "text": [
      ">>> User prompt (/q to quit, /load to load data):  how much does a prompt engineer make a year?\n"
     ]
    },
    {
     "name": "stdout",
     "output_type": "stream",
     "text": [
      "\u001b[34mRouting to build_query step...\u001b[0m\n",
      "\u001b[34mAgent 'build_query' run time: 1.11 seconds.\u001b[0m\n",
      "\u001b[34mRouting to handle_user_input step...\u001b[0m\n",
      "\u001b[0mYour question is ambiguous. Please provide additional details: Are you looking for the average salary of a prompt engineer across all years, or do you want the salary for a specific year?\u001b[0m\n"
     ]
    },
    {
     "name": "stdin",
     "output_type": "stream",
     "text": [
      ">>> User prompt (/q to quit, /load to load data):  accross all years\n"
     ]
    },
    {
     "name": "stdout",
     "output_type": "stream",
     "text": [
      "\u001b[34mRouting to build_query step...\u001b[0m\n",
      "\u001b[34mSELECT AVG(salary_in_usd) AS average_salary\n",
      "FROM ds_salaries\n",
      "WHERE job_title = 'Prompt Engineer';\u001b[0m\n",
      "\u001b[34mAgent 'build_query' run time: 1.60 seconds.\u001b[0m\n",
      "\u001b[34mRouting to execute_query step...\u001b[0m\n",
      "\u001b[34mAgent 'execute_query' run time: 0.00 seconds.\u001b[0m\n",
      "\u001b[34mRouting to post_execution step...\u001b[0m\n",
      "\u001b[34mAgent 'post_execution' run time: 3.37 seconds.\u001b[0m\n",
      "\u001b[0mThe query did not return any results for the job title \"Prompt Engineer.\" This may suggest that there are no entries in the \"ds_salaries\" table for this title across all years.\u001b[0m\n"
     ]
    },
    {
     "name": "stdin",
     "output_type": "stream",
     "text": [
      ">>> User prompt (/q to quit, /load to load data):  /q\n"
     ]
    },
    {
     "name": "stdout",
     "output_type": "stream",
     "text": [
      "\u001b[34mRouting to END step...\u001b[0m\n"
     ]
    }
   ],
   "source": [
    "%run -i \"build_state_graph.py\""
   ]
  },
  {
   "cell_type": "code",
   "execution_count": 7,
   "metadata": {},
   "outputs": [
    {
     "data": {
      "image/png": "[encoded data removed]",
      "text/plain": [
       "<IPython.core.display.Image object>"
      ]
     },
     "execution_count": 7,
     "metadata": {},
     "output_type": "execute_result"
    }
   ],
   "source": [
    "# draw the graph\n",
    "Image(graph.get_graph().draw_mermaid_png())"
   ]
  }
 ],
 "metadata": {
  "kernelspec": {
   "display_name": "Python (langgraph)",
   "language": "python",
   "name": "langgraph"
  },
  "language_info": {
   "codemirror_mode": {
    "name": "ipython",
    "version": 3
   },
   "file_extension": ".py",
   "mimetype": "text/x-python",
   "name": "python",
   "nbconvert_exporter": "python",
   "pygments_lexer": "ipython3",
   "version": "3.12.9"
  }
 },
 "nbformat": 4,
 "nbformat_minor": 4
}
